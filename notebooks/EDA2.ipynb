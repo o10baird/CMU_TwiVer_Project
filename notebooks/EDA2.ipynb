{
 "cells": [
  {
   "attachments": {},
   "cell_type": "markdown",
   "metadata": {},
   "source": [
    "### EDA2"
   ]
  },
  {
   "cell_type": "code",
   "execution_count": 16,
   "metadata": {},
   "outputs": [
    {
     "name": "stdout",
     "output_type": "stream",
     "text": [
      "3576\n"
     ]
    }
   ],
   "source": [
    "from pathlib import Path\n",
    "import pandas as pd\n",
    "\n",
    "path = Path.cwd()\n",
    "path_root = path.parent\n",
    "data_Dir = path_root.joinpath('data')\n",
    "\n",
    "bert_Dir = data_Dir.joinpath('bert_data')\n",
    "file = 'bert_data2.csv'\n",
    "total_Dir = bert_Dir.joinpath(file)\n",
    "\n",
    "total_pd = pd.read_csv(total_Dir, dtype='str' , names=['id', 'tweet', 'rating', 'TimeFrame'])\n",
    "print(len(total_pd))"
   ]
  },
  {
   "cell_type": "code",
   "execution_count": 17,
   "metadata": {},
   "outputs": [],
   "source": [
    "month_pd = total_pd[total_pd.TimeFrame.isin(['month'])== True]\n",
    "week_pd = total_pd[total_pd.TimeFrame.isin(['week'])== True]\n",
    "day_pd = total_pd[total_pd.TimeFrame.isin(['day'])== True]"
   ]
  },
  {
   "cell_type": "code",
   "execution_count": 34,
   "metadata": {},
   "outputs": [],
   "source": [
    "month_text_pd = month_pd[\"tweet\"]\n",
    "month_text = \"\"\n",
    "for tweet in month_text_pd:\n",
    "    month_text += str(tweet)\n",
    "week_text_pd = week_pd[\"tweet\"]\n",
    "week_text = \"\"\n",
    "for tweet in week_text_pd:\n",
    "    week_text += str(tweet)\n",
    "day_text_pd = week_pd[\"tweet\"]\n",
    "day_text = \"\"\n",
    "for tweet in day_text_pd:\n",
    "    day_text += str(tweet)"
   ]
  },
  {
   "cell_type": "code",
   "execution_count": 48,
   "metadata": {},
   "outputs": [],
   "source": [
    "with open('month.txt', 'w') as f:\n",
    "    f.writelines(month_text)\n",
    "f.close()\n",
    "with open('week.txt', 'w') as f:\n",
    "    f.writelines(week_text)\n",
    "f.close()\n",
    "with open('day.txt', 'w') as f:\n",
    "    f.writelines(day_text)\n",
    "f.close()"
   ]
  },
  {
   "cell_type": "code",
   "execution_count": 49,
   "metadata": {},
   "outputs": [
    {
     "name": "stdout",
     "output_type": "stream",
     "text": [
      "c:\\Users\\Matt\\Documents\\MISM-BIDA\\84740_TPSUML\\CMU_TwiVer_Project\\data\\bert_data\\month.txt\n"
     ]
    }
   ],
   "source": [
    "month = 'month.txt'\n",
    "week = 'week.txt'\n",
    "day = 'day.txt'\n",
    "month_path = bert_Dir.joinpath(month)\n",
    "week_path = bert_Dir.joinpath(week)\n",
    "day_path = bert_Dir.joinpath(day)\n",
    "print(month_path)"
   ]
  },
  {
   "cell_type": "code",
   "execution_count": 59,
   "metadata": {},
   "outputs": [],
   "source": [
    "from stop_words import get_stop_words\n",
    "stop_words = get_stop_words('english')"
   ]
  },
  {
   "cell_type": "code",
   "execution_count": 61,
   "metadata": {},
   "outputs": [],
   "source": [
    "import stylecloud\n",
    "stylecloud.gen_stylecloud(file_path='month.txt',\n",
    "                         palette='lightbartlein.diverging.BlueOrange12_6',custom_stopwords=stop_words)"
   ]
  },
  {
   "cell_type": "code",
   "execution_count": 63,
   "metadata": {},
   "outputs": [],
   "source": [
    "stylecloud.gen_stylecloud(file_path='week.txt',\n",
    "                         palette='lightbartlein.diverging.BlueOrange12_6',custom_stopwords=stop_words)"
   ]
  },
  {
   "cell_type": "code",
   "execution_count": 65,
   "metadata": {},
   "outputs": [],
   "source": [
    "stylecloud.gen_stylecloud(file_path='day.txt',\n",
    "                         palette='lightbartlein.diverging.BlueOrange12_6', custom_stopwords=stop_words)"
   ]
  }
 ],
 "metadata": {
  "kernelspec": {
   "display_name": "Python 3",
   "language": "python",
   "name": "python3"
  },
  "language_info": {
   "codemirror_mode": {
    "name": "ipython",
    "version": 3
   },
   "file_extension": ".py",
   "mimetype": "text/x-python",
   "name": "python",
   "nbconvert_exporter": "python",
   "pygments_lexer": "ipython3",
   "version": "3.10.1"
  },
  "orig_nbformat": 4,
  "vscode": {
   "interpreter": {
    "hash": "00baeb7abb7613f463baf51258eb05377c895343a9e980745d4241d85bf2dff7"
   }
  }
 },
 "nbformat": 4,
 "nbformat_minor": 2
}
